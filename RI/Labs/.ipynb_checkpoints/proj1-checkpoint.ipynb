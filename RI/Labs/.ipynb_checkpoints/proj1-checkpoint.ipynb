{
 "cells": [
  {
   "cell_type": "code",
   "execution_count": 1,
   "id": "ffc0dc88-9af9-427b-8fb6-52a43c1d1862",
   "metadata": {},
   "outputs": [],
   "source": [
    "import xml.etree.ElementTree as ET\n",
    "import matplotlib as plt\n",
    "import pandas as pd\n",
    "import trec\n",
    "import pprint as pp\n",
    "\n",
    "# https://wiki.python.org/moin/UsingPickle\n",
    "import pickle\n",
    "\n",
    "Queries = \"/user/home/user120/proj1_dataset/topics-2014_2015-summary.topics\"\n",
    "Qrels = \"/user/home/user120/proj1_dataset/qrels-clinical_trials.txt\"\n",
    "with open(Queries, 'r') as queries_reader:\n",
    "    txt = queries_reader.read()\n",
    "\n",
    "root = ET.fromstring(txt)\n",
    "\n",
    "cases = {}\n",
    "for query in root.iter('TOP'):\n",
    "    q_num = query.find('NUM').text\n",
    "    q_title = query.find('TITLE').text\n",
    "    cases[q_num] = q_title\n",
    "\n",
    "eval = trec.TrecEvaluation(cases, Qrels)\n",
    "\n",
    "# pp.pprint(cases)\n"
   ]
  },
  {
   "cell_type": "code",
   "execution_count": 2,
   "id": "18df5689-15fd-405c-9e5f-24109e1422fb",
   "metadata": {
    "tags": []
   },
   "outputs": [
    {
     "name": "stdout",
     "output_type": "stream",
     "text": [
      "3626\n"
     ]
    }
   ],
   "source": [
    "import xml.etree.ElementTree as ET\n",
    "import tarfile\n",
    "\n",
    "tar = tarfile.open(\"/user/home/user120/proj1_dataset/clinicaltrials.gov-16_dec_2015.tgz\", \"r:gz\")\n",
    "i = 0\n",
    "ids = []\n",
    "docs = []\n",
    "for tarinfo in tar:\n",
    "    if tarinfo.size > 500:\n",
    "        txt = tar.extractfile(tarinfo).read().decode(\"utf-8\", \"strict\")\n",
    "        root = ET.fromstring(txt)\n",
    "\n",
    "        judged = False\n",
    "        for doc_id in root.iter('nct_id'):\n",
    "            if doc_id.text in eval.judged_docs:\n",
    "                judged = True\n",
    "\n",
    "        if judged is False:\n",
    "            continue\n",
    "\n",
    "        i = i + 1\n",
    "\n",
    "        for brief_title in root.iter('brief_title'):\n",
    "            #print(\"brief_title: \", brief_title.text)\n",
    "            docs.append(brief_title.text)\n",
    "            ids.append(doc_id.text)\n",
    "\n",
    "        continue\n",
    "\n",
    "        for detailed_description in root.iter('detailed_description'):\n",
    "            for child in detailed_description:\n",
    "                print(\"detailed_description: \", child.text.strip())\n",
    "\n",
    "        for brief_summary in root.iter('brief_summary'):\n",
    "            for child in brief_summary:\n",
    "                print(\"brief_summary: \", child.text.strip())\n",
    "tar.close()\n",
    "\n",
    "print(i)\n",
    "\n",
    "pickle.dump(docs, open( \"documents.bin\", \"wb\" ) )\n",
    "pickle.dump(ids, open( \"doc_ids.bin\", \"wb\" ) )\n"
   ]
  },
  {
   "cell_type": "code",
   "execution_count": 2,
   "id": "7fece409-b0f6-4803-8693-bd855f98cd47",
   "metadata": {},
   "outputs": [],
   "source": [
    "import pickle\n",
    "docs = pickle.load( open( \"documents.bin\", \"rb\" ) )\n",
    "ids = pickle.load( open( \"doc_ids.bin\", \"rb\" ) )\n",
    "\n",
    "from sklearn.metrics.pairwise import pairwise_distances\n",
    "from sklearn.feature_extraction.text import TfidfVectorizer\n",
    "\n",
    "index = TfidfVectorizer(ngram_range=(1,1), analyzer='word', stop_words = None)\n",
    "index.fit(docs)\n",
    "\n",
    "# Compute the corpus representation\n",
    "X = index.transform(docs)\n"
   ]
  },
  {
   "cell_type": "code",
   "execution_count": 3,
   "id": "6cdcc327-def6-49d4-959b-5b34b7e15414",
   "metadata": {},
   "outputs": [],
   "source": [
    "avg_precision_11point = np.zeros(11)\n",
    "for caseid in cases:\n",
    "    query = cases[caseid]\n",
    "    query_tfidf = index.transform([query])\n",
    "\n",
    "    doc_scores = 1 - pairwise_distances(X, query_tfidf, metric='cosine')\n",
    "    \n",
    "    results = pd.DataFrame(list(zip(ids, doc_scores)), columns = ['_id', 'score'])\n",
    "    results_ord = results.sort_values(by=['score'], ascending = False)\n",
    "    \n",
    "    [p10, recall, ap, ndcg5, mrr] = eval.eval(results_ord, caseid)\n",
    "    [precision_11point, recall_11point, total_relv_ret] = eval.evalPR(results_ord, caseid)\n",
    "\n",
    "    if (np.shape(recall_11point) != (0,)):\n",
    "        avg_precision_11point = avg_precision_11point + precision_11point\n",
    "\n",
    "    print(ap)\n"
   ]
  },
  {
   "cell_type": "code",
   "execution_count": 6,
   "id": "d4702396-3b65-4014-a784-5e7335aae436",
   "metadata": {},
   "outputs": [
    {
     "data": {
      "text/plain": [
       "[<matplotlib.lines.Line2D at 0x7f5d5244e7f0>]"
      ]
     },
     "execution_count": 6,
     "metadata": {},
     "output_type": "execute_result"
    },
    {
     "data": {
      "image/png": "[encoded data removed]",
      "text/plain": [
       "<Figure size 432x288 with 1 Axes>"
      ]
     },
     "metadata": {
      "needs_background": "light"
     },
     "output_type": "display_data"
    }
   ],
   "source": [
    "import matplotlib.pyplot as plt\n",
    "plt.plot(recall_11point,avg_precision_11point/len(cases))\n"
   ]
  }
 ],
 "metadata": {
  "kernelspec": {
   "display_name": "Python 3.9.12 ('base')",
   "language": "python",
   "name": "python3"
  },
  "language_info": {
   "codemirror_mode": {
    "name": "ipython",
    "version": 3
   },
   "file_extension": ".py",
   "mimetype": "text/x-python",
   "name": "python",
   "nbconvert_exporter": "python",
   "pygments_lexer": "ipython3",
   "version": "3.9.12"
  },
  "vscode": {
   "interpreter": {
    "hash": "a8eb5f93f86b3d963cdb94445cb438672a880a976f8c51af0b9e9750958beb42"
   }
  }
 },
 "nbformat": 4,
 "nbformat_minor": 5
}
