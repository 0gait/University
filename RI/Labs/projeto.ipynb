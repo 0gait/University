{
 "cells": [
  {
   "cell_type": "code",
   "execution_count": 1,
   "id": "4643499b",
   "metadata": {},
   "outputs": [],
   "source": [
    "from sklearn.metrics.pairwise import pairwise_distances\n",
    "from sklearn.feature_extraction.text import TfidfVectorizer\n",
    "from sklearn.feature_extraction.text import CountVectorizer\n",
    "from sklearn.model_selection import train_test_split\n",
    "import random\n",
    "import xml.etree.ElementTree as ET\n",
    "import tarfile\n",
    "import os\n",
    "import pickle\n",
    "import numpy as np\n",
    "from ClinicalTrial import ClinicalTrial\n",
    "from Query import Query\n",
    "import xml.etree.ElementTree as ET\n",
    "import trec\n",
    "import pandas as pd\n",
    "import pprint as pp\n",
    "import numpy as np\n",
    "\n",
    "cases = pickle.load( open( \"./cases.p\", \"rb\" ) ) \n",
    "clinical_trials = pickle.load( open( \"./clinical_trials.p\", \"rb\" ) )\n",
    "training_set = pickle.load( open( \"./training_set.p\", \"rb\" ) )\n",
    "test_set = pickle.load( open( \"./test_set.p\", \"rb\" ) )\n",
    "corpus = pickle.load( open( \"./corpus.p\", \"rb\" ) )\n",
    "eval = pickle.load( open( \"./eval.p\", \"rb\" ) )\n",
    "queryLen = pickle.load( open( \"./queriesLen.p\", \"rb\" ) )\n",
    "ct_keys = pickle.load( open( \"./ct_keys.p\", \"rb\" ) )\n",
    "allCorpus = pickle.load( open( \"./allCorpus.p\", \"rb\" ) ) "
   ]
  },
  {
   "cell_type": "code",
   "execution_count": null,
   "id": "29ed079e",
   "metadata": {},
   "outputs": [],
   "source": [
    "import pickle\n",
    "\n",
    "\n",
    "\n",
    "print(q_doc_scores)"
   ]
  },
  {
   "cell_type": "code",
   "execution_count": 8,
   "id": "dd19eaee",
   "metadata": {},
   "outputs": [],
   "source": [
    "query_set = training_set\n",
    "#query_set = test_set"
   ]
  },
  {
   "cell_type": "code",
   "execution_count": null,
   "id": "3d1e2169",
   "metadata": {},
   "outputs": [],
   "source": [
    "from LM import calculateTfidf \n",
    "\n",
    "calculateTfidf(min=1,max=2,stop_words=None,analyzer='word',allCorpus=allCorpus,query_set=query_set,cases=cases,eval = eval,ct_keys=ct_keys,q_doc_scores = q_doc_scores)"
   ]
  },
  {
   "cell_type": "code",
   "execution_count": null,
   "id": "a9165655",
   "metadata": {},
   "outputs": [],
   "source": [
    "from LM import calculateLMJM\n",
    "\n",
    "calculateLMJM(min=1,max=2,stop_words='english',analyzer='word',allCorpus=allCorpus,query_set=query_set,cases=cases,eval = eval,lam=0.6,ct_keys=ct_keys,q_doc_scores = q_doc_scores)"
   ]
  },
  {
   "cell_type": "code",
   "execution_count": null,
   "id": "480d2397",
   "metadata": {},
   "outputs": [],
   "source": [
    "q_doc_scores = pickle.load( open( \"./q_doc_scores.p\", \"rb\" ) ) \n",
    "y_train = pickle.load( open( \"./y_train.p\", \"rb\" ) ) \n",
    "\n",
    "X = []\n",
    "for key in q_doc_scores.keys():\n",
    "    X.append(q_doc_scores[key])\n",
    "\n",
    "#Calcular regressão logistica dado o Y e o X como argumentos\n",
    "scaler = StandardScaler()\n",
    "scaled_scores = scaler.fit(X) #problema aqui, fit só recebe arrays de 2 dimensoes mas supostamente ta a receber de 3\n",
    "clf = LogisticRegression(random_state=0).fit(scaled_scores, y_train) \n",
    "\n",
    "for i, scores in scaled_scores:\n",
    "    coef = clf.coef.transpose()  # para cada querie_doc calcular os coef e fazer [scores][clf.coef.transpose()]\n",
    "    docs_relevance[key] = coef scores"
   ]
  },
  {
   "cell_type": "code",
   "execution_count": null,
   "id": "54865668",
   "metadata": {},
   "outputs": [],
   "source": []
  },
  {
   "cell_type": "code",
   "execution_count": null,
   "id": "c3c8615a",
   "metadata": {},
   "outputs": [],
   "source": [
    "import matplotlib.pyplot as plt\n",
    "from Graphics import buildQueryLenByPerf\n",
    "\n",
    "buildQueryLenByPerf()\n",
    "plt.show()"
   ]
  },
  {
   "cell_type": "code",
   "execution_count": null,
   "id": "e095d421",
   "metadata": {},
   "outputs": [],
   "source": [
    "import matplotlib.pyplot as plt\n",
    "from Graphics import buildAvgPerf\n",
    "\n",
    "buildAvgPerf()\n",
    "plt.show()"
   ]
  }
 ],
 "metadata": {
  "kernelspec": {
   "display_name": "Python 3",
   "language": "python",
   "name": "python3"
  },
  "language_info": {
   "codemirror_mode": {
    "name": "ipython",
    "version": 3
   },
   "file_extension": ".py",
   "mimetype": "text/x-python",
   "name": "python",
   "nbconvert_exporter": "python",
   "pygments_lexer": "ipython3",
   "version": "3.10.8 (tags/v3.10.8:aaaf517, Oct 11 2022, 16:50:30) [MSC v.1933 64 bit (AMD64)]"
  },
  "vscode": {
   "interpreter": {
    "hash": "ad0dca2e244af21c4c5d0f9a6829fb7c38730a4ceb87273b23f676f5c3afd688"
   }
  }
 },
 "nbformat": 4,
 "nbformat_minor": 5
}
