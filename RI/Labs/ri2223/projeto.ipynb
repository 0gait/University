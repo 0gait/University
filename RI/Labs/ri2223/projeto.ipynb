{
 "cells": [
  {
   "cell_type": "code",
   "execution_count": 12,
   "id": "c09c6f48",
   "metadata": {},
   "outputs": [],
   "source": [
    "import xml.etree.ElementTree as ET\n",
    "import pickle\n",
    "import numpy as np\n",
    "import xml.etree.ElementTree as ET\n",
    "import pandas as pd\n",
    "import pprint as pp\n",
    "from ModelsCalculation import calculateScores\n",
    "import Training\n",
    "import pickle\n",
    "import Evaluation\n",
    "import matplotlib.pyplot as plt\n",
    "import Graphics \n",
    "\n"
   ]
  },
  {
   "cell_type": "code",
   "execution_count": 15,
   "id": "4643499b",
   "metadata": {},
   "outputs": [],
   "source": [
    "cases = pickle.load( open( \"./data/cases.p\", \"rb\" ) ) \n",
    "clinical_trials = pickle.load( open( \"./data/clinical_trials.p\", \"rb\" ) )\n",
    "training_set = pickle.load( open( \"./sets/training_set.p\", \"rb\" ) )\n",
    "test_set = pickle.load( open( \"./sets/test_set.p\", \"rb\" ) )\n",
    "corpus = pickle.load( open( \"./data/corpus.p\", \"rb\" ) )\n",
    "eval = pickle.load( open( \"./data/eval.p\", \"rb\" ) )\n",
    "ct_keys = pickle.load( open( \"./data/ct_keys.p\", \"rb\" ) )"
   ]
  },
  {
   "cell_type": "code",
   "execution_count": 17,
   "id": "3d1e2169",
   "metadata": {},
   "outputs": [],
   "source": [
    "min = 1\n",
    "#max = 2\n",
    "max = 1\n",
    "#stop_words = \"english\"\n",
    "stop_words = None\n",
    "normalize = True\n",
    "lam = 0.6\n",
    "#query_set = training_set\n",
    "query_set = test_set\n"
   ]
  },
  {
   "cell_type": "code",
   "execution_count": null,
   "id": "78e4da97",
   "metadata": {},
   "outputs": [],
   "source": [
    "calculateScores(min = min,max = max,stop_words = stop_words,analyzer = 'word',allCorpus = corpus,query_set = query_set,cases = cases,eval = eval,lam = lam,clinical_trials = clinical_trials)"
   ]
  },
  {
   "cell_type": "code",
   "execution_count": null,
   "id": "e909945e",
   "metadata": {},
   "outputs": [],
   "source": [
    "c_list = [0.00001, 0.01, 1, 100, 10000]\n",
    "q_revDocs = pickle.load( open( \"./data/q_revDocs.p\", \"rb\" ) )\n",
    "q_doc_scores = pickle.load( open( \"./data/q_doc_scores_{min}_{max}_{stop_words}.p\".format(min = min, max = max, stop_words=stop_words), \"rb\" ) )\n",
    "\n",
    "class_weight = [None, 'balanced', {0:0.2, 1:0.8}, {0:0.1, 1:0.9},{0:0.3, 1:0.7},{0:0.4, 1:0.6},{0:0.5, 1:0.5},{0:0.6, 1:0.4},{0:0.7, 1:0.3},{0:0.8, 1:0.2},{0:0.9, 1:0.1}]\n",
    "Training.getBestC(q_doc_scores,q_revDocs, normalize,min,max,stop_words,class_weight,c_list,lam, eval, 5)"
   ]
  },
  {
   "cell_type": "code",
   "execution_count": null,
   "id": "896aa90e",
   "metadata": {},
   "outputs": [],
   "source": [
    "weight_c_metricsavg = pickle.load( open( \"./weight_c_metricsavg.p\", \"rb\" ) )\n",
    "print(weight_c_metricsavg)"
   ]
  },
  {
   "cell_type": "code",
   "execution_count": null,
   "id": "4199a47b",
   "metadata": {},
   "outputs": [],
   "source": [
    "weight_c_metricsavg = pickle.load( open( \"./weight_c_metricsavg.p\", \"rb\" ) )\n",
    "best_combinations = Training.filterBestCombinationCW_C(weight_c_metricsavg)\n",
    "\n",
    "for comb in best_combinations:\n",
    "    print(\"Comb: \" + comb + \" -> \", weight_c_metricsavg[comb])"
   ]
  },
  {
   "cell_type": "code",
   "execution_count": 19,
   "id": "a5f8ed13",
   "metadata": {},
   "outputs": [],
   "source": [
    "q_revDocs = pickle.load( open( \"./data/q_revDocs.p\", \"rb\" ) )\n",
    "q_doc_scores = pickle.load( open( \"./data/q_doc_scores_{min}_{max}_{stop_words}.p\".format(min = min, max = max, stop_words=stop_words), \"rb\" ) )\n",
    "#class_weight = {0: 0.8, 1: 0.2}\n",
    "#class_weight = \"balanced\"\n",
    "class_weight = None\n",
    "c = 1.0\n",
    "#c = 100\n",
    "Training.combineScores(q_doc_scores = q_doc_scores,q_revDocs = q_revDocs,normalize = normalize,min = min,max = max,stop_words = stop_words,c = c,class_weight = class_weight)"
   ]
  },
  {
   "cell_type": "code",
   "execution_count": null,
   "id": "11fcdf92",
   "metadata": {},
   "outputs": [],
   "source": [
    "q_doc_scores_combined = pickle.load( open( \"./data/q_doc_scores_combined_{min}_{max}_{stop_words}_{normalized}.p\".format(min = min, max = max, stop_words=stop_words,normalized=normalize), \"rb\" ) )\n",
    "print(q_doc_scores_combined)"
   ]
  },
  {
   "cell_type": "code",
   "execution_count": null,
   "id": "15ea9f38",
   "metadata": {},
   "outputs": [],
   "source": [
    "Evaluation.getMetrics(q_doc_scores = q_doc_scores_combined,min = min,max = max,stop_words = stop_words,lam=lam,query_set = query_set,eval = eval,normalized=normalize,c =c ,class_weight=\"optimal\")"
   ]
  },
  {
   "cell_type": "code",
   "execution_count": null,
   "id": "c3c8615a",
   "metadata": {},
   "outputs": [],
   "source": [
    "Graphics.buildQueryLenByPerf()\n",
    "plt.show()"
   ]
  },
  {
   "cell_type": "code",
   "execution_count": null,
   "id": "e095d421",
   "metadata": {},
   "outputs": [],
   "source": [
    "Graphics.buildAvgPerf()\n",
    "plt.show()"
   ]
  },
  {
   "cell_type": "code",
   "execution_count": null,
   "id": "ea94cbe5",
   "metadata": {},
   "outputs": [],
   "source": [
    "Graphics.buildCombinedScores()\n",
    "plt.show()"
   ]
  }
 ],
 "metadata": {
  "kernelspec": {
   "display_name": "Python 3 (ipykernel)",
   "language": "python",
   "name": "python3"
  },
  "language_info": {
   "codemirror_mode": {
    "name": "ipython",
    "version": 3
   },
   "file_extension": ".py",
   "mimetype": "text/x-python",
   "name": "python",
   "nbconvert_exporter": "python",
   "pygments_lexer": "ipython3",
   "version": "3.9.13"
  },
  "vscode": {
   "interpreter": {
    "hash": "8a885cc7fd9721dd6d5968e451a9008c6bab80d91df7b84ed05ec117ba1207e6"
   }
  }
 },
 "nbformat": 4,
 "nbformat_minor": 5
}
